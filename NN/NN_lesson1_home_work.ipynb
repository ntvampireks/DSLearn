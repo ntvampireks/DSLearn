{
 "cells": [
  {
   "cell_type": "code",
   "execution_count": 1,
   "id": "dbf60114",
   "metadata": {},
   "outputs": [
    {
     "data": {
      "text/plain": [
       "True"
      ]
     },
     "execution_count": 1,
     "metadata": {},
     "output_type": "execute_result"
    }
   ],
   "source": [
    "import torch\n",
    "torch.has_mps"
   ]
  },
  {
   "cell_type": "code",
   "execution_count": 2,
   "id": "3de579d1",
   "metadata": {},
   "outputs": [],
   "source": [
    "torch.device('mps')\n",
    "def sigmoid(s):\n",
    "    return 1 / (1 + torch.exp(-s))\n",
    "\n",
    "def derivative(s):\n",
    "    return s * (1 - s)\n",
    "\n",
    "def forward(X, w1, w2):\n",
    "    #результат вычисления сумматоров первого слоя \n",
    "    l1_sum = torch.matmul(w1, X)\n",
    "    #применение передаточной функции\n",
    "    l1_result = sigmoid(l1_sum)\n",
    "    #print(\"выходы скрытого слоя \",l1_result.size())\n",
    "    #результат вычисления сумматоров второго слоя\n",
    "    l2_sum = torch.matmul(w2, l1_result)\n",
    "    #применение передаточной функции\n",
    "    l2_result = sigmoid(l2_sum)\n",
    "    #print(\"выходы сети\", l2_result.size())\n",
    "    return l2_result, l1_result\n",
    "\n",
    "def loss(y, y_pred):\n",
    "    return (y_pred - y).pow(2).sum().item()\n",
    "\n",
    "def output_error(y, y_pred):\n",
    "    return (y_pred - y)#.pow(2).sum().item()\n",
    "\n",
    "def hidden_error(w, err_next_layer):\n",
    "    return torch.matmul(w, err_next_layer.t())    \n",
    "\n",
    "#def backward(y_pred, w2, w1):\n",
    "    \n",
    "\n",
    "batch:  int = 100 #количество элементов в выборке\n",
    "inp_size:  int = 3 #размерность входного вектора\n",
    "    \n",
    "hidden_layer:  int = 32\n",
    "output_layer:  int = 2\n",
    "learning_rate: float = 0.01\n",
    "\n",
    "X = torch.rand(inp_size, batch)\n",
    "y = torch.rand(output_layer, batch)    \n",
    "    \n",
    "w1 = torch.randn(hidden_layer, inp_size)\n",
    "w2 = torch.randn(output_layer, hidden_layer)\n",
    "\n",
    "##grad_l2#.size()\n",
    "#errors_l1 = hidden_error(w2, errors_l2)\n",
    "#print(\"Размерность вектора ошибок выходного слоя:\", errors_l2.size())\n",
    "#print(\"Размерность вектора ошибок скрытого слоя:\", errors_l1.size())"
   ]
  },
  {
   "cell_type": "code",
   "execution_count": 3,
   "id": "3c6344b8",
   "metadata": {},
   "outputs": [
    {
     "name": "stdout",
     "output_type": "stream",
     "text": [
      "14.841134071350098\n"
     ]
    }
   ],
   "source": [
    "#velocity = momentum (0.9-0.99)* velocity - lr*gradient\n",
    "import math\n",
    "def backward(y, y_pred, w1, w2, learning_rate):\n",
    "    errors_l2 = output_error(y, y_pred) * derivative(y_pred)\n",
    "    errors_l1 = torch.matmul(w2.t(), errors_l2) * derivative(l1_result)\n",
    "    \n",
    "    acc2 = errors_l2.pow(2).sum().item()\n",
    "    acc1 = errors_l2.pow(2).sum().item()\n",
    "    \n",
    "    #w2 -= learning_rate * torch.matmul(errors_l2, l1_result.t())\n",
    "    #w1 -= learning_rate * torch.matmul(errors_l1, X.t())\n",
    "    w2 -= (learning_rate/math.sqrt(acc2) ) * torch.matmul(errors_l2, l1_result.t())\n",
    "    w1 -= (learning_rate/math.sqrt(acc1) ) * torch.matmul(errors_l1, X.t())\n",
    "    return errors_l2, errors_l1, w2, w1\n",
    "\n",
    "x_draw = list()\n",
    "y_draw = list()\n",
    "\n",
    "for x in range(1000):\n",
    "    y_pred, l1_result = forward(X, w1,w2)\n",
    "    ls = loss(y, y_pred)\n",
    "    errors_l2, errors_l1, w2, w1 = backward(y, y_pred, w1, w2, learning_rate)\n",
    "    x_draw.append(x)\n",
    "    y_draw.append(ls)\n",
    "print(ls)\n",
    "\n",
    "\n",
    "\n",
    "#считаем ошибку выходного слоя, считаем производную, получаем градиент при умножении\n",
    "#errors_l2 = output_error(y, y_pred) * derivative(y_pred)\n",
    "#корректируем веса\n",
    "#w2 -= learning_rate * torch.matmul(errors_l2, l1_result.t())\n",
    "#вычисление градиента\n",
    "\n"
   ]
  },
  {
   "cell_type": "code",
   "execution_count": 4,
   "id": "a10bfac0",
   "metadata": {},
   "outputs": [
    {
     "data": {
      "text/plain": [
       "[<matplotlib.lines.Line2D at 0x126e68d90>]"
      ]
     },
     "execution_count": 4,
     "metadata": {},
     "output_type": "execute_result"
    },
    {
     "data": {
      "image/png": "[encoded data removed]",
      "text/plain": [
       "<Figure size 432x288 with 1 Axes>"
      ]
     },
     "metadata": {
      "needs_background": "light"
     },
     "output_type": "display_data"
    }
   ],
   "source": [
    "import matplotlib.pyplot as plt\n",
    "plt.plot(x_draw, y_draw)"
   ]
  },
  {
   "cell_type": "code",
   "execution_count": 12,
   "id": "88bd990f",
   "metadata": {},
   "outputs": [],
   "source": [
    "def f(x, y):\n",
    "    return x ** 2 + y ** 2 - 2 * x * y + x - 3 * y\n",
    "def derivative_by_X(x, y):\n",
    "    return 2 * x - 2 * y + 1\n",
    "def derivative_by_Y(x, y):\n",
    "    return 2 * y - 2 * x - 3\n",
    "X = 10.\n",
    "Y = 10.\n",
    "learning_rate = 0.05\n",
    "x = torch.tensor(X)\n",
    "y = torch.tensor(Y)\n",
    "x_draw = list()\n",
    "y_draw = list()"
   ]
  },
  {
   "cell_type": "code",
   "execution_count": 13,
   "id": "9af12639",
   "metadata": {},
   "outputs": [
    {
     "name": "stdout",
     "output_type": "stream",
     "text": [
      "tensor(-898.4501)\n"
     ]
    },
    {
     "data": {
      "image/png": "[encoded data removed]",
      "text/plain": [
       "<Figure size 432x288 with 1 Axes>"
      ]
     },
     "metadata": {
      "needs_background": "light"
     },
     "output_type": "display_data"
    }
   ],
   "source": [
    "\n",
    "\n",
    "df_dx = derivative_by_X(x, y)\n",
    "df_dy = derivative_by_Y(x, y)\n",
    "\n",
    "for x in range(500):\n",
    "    x -= learning_rate * df_dx\n",
    "    y -= learning_rate * df_dy\n",
    "    df_dx = derivative_by_X(x, y)\n",
    "    df_dy = derivative_by_Y(x, y)\n",
    "    x_draw.append(x)\n",
    "    y_draw.append(f(x,y))\n",
    "plt.plot(x_draw, y_draw)   \n",
    "print(f(x,y))"
   ]
  },
  {
   "cell_type": "code",
   "execution_count": null,
   "id": "13b7c78f",
   "metadata": {},
   "outputs": [],
   "source": []
  }
 ],
 "metadata": {
  "kernelspec": {
   "display_name": "Python 3 (ipykernel)",
   "language": "python",
   "name": "python3"
  },
  "language_info": {
   "codemirror_mode": {
    "name": "ipython",
    "version": 3
   },
   "file_extension": ".py",
   "mimetype": "text/x-python",
   "name": "python",
   "nbconvert_exporter": "python",
   "pygments_lexer": "ipython3",
   "version": "3.9.12"
  }
 },
 "nbformat": 4,
 "nbformat_minor": 5
}
