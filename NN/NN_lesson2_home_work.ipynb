{
 "cells": [
  {
   "cell_type": "code",
   "execution_count": 2,
   "id": "bb0f4e3c",
   "metadata": {},
   "outputs": [],
   "source": [
    "%%capture\n",
    "import torch\n",
    "import torch.nn as nn\n",
    "import torchvision.models as models\n",
    "from torchvision import datasets\n",
    "from torch.utils.data import DataLoader\n",
    "from sklearn.model_selection import train_test_split\n",
    "\n",
    "import numpy \n",
    "import numpy as np\n",
    "\n",
    "#hyper params\n",
    "num_epoch = 20\n",
    "cuda_device = 1\n",
    "batch_size = 140\n",
    "device = torch.device(\"cuda\") if torch.cuda.is_available() else torch.device(\"cpu\")\n",
    "input_d = 28*28\n",
    "hidden_d = 512\n",
    "out_d = 10\n",
    "\n",
    "#model\n",
    "class MyModel(nn.Module):\n",
    "    def __init__(self, input_dim: int, hidden_dim: int, out_dim: int,):\n",
    "        super().__init__()\n",
    "        self.linear1 = nn.Linear(input_dim, hidden_dim, bias=True)\n",
    "        self.linear2 = nn.Linear(hidden_dim, hidden_dim, bias=True)\n",
    "        self.linear3 = nn.Linear(hidden_dim, out_dim)\n",
    "\n",
    "        self.activation = nn.Sigmoid()\n",
    "        #self\n",
    "    def forward(self, x):\n",
    "        x = self.activation(self.linear1(x))\n",
    "        x = self.activation(self.linear2(x))\n",
    "        x = self.activation(self.linear3(x)) #activation(self.linear3(x))\n",
    "\n",
    "        return x\n",
    "\n",
    "\n",
    "def collate_fn(data): ##\n",
    "    pics = []\n",
    "    targets = []\n",
    "    # data = [(pic, target), ....]\n",
    "    for item in data:\n",
    "        pics.append(numpy.array(item[0]))\n",
    "        targets.append(item[1])\n",
    "\n",
    "    return {\n",
    "        'data': torch.from_numpy(numpy.array(pics)) / 255,\n",
    "        'target': torch.from_numpy(numpy.array(targets))\n",
    "    }\n",
    "\n",
    "\n",
    "# init model"
   ]
  },
  {
   "cell_type": "code",
   "execution_count": 3,
   "id": "19ce0a01",
   "metadata": {},
   "outputs": [
    {
     "data": {
      "text/plain": [
       "device(type='cuda')"
      ]
     },
     "execution_count": 3,
     "metadata": {},
     "output_type": "execute_result"
    }
   ],
   "source": [
    "device"
   ]
  },
  {
   "cell_type": "code",
   "execution_count": 4,
   "id": "be26667d",
   "metadata": {
    "scrolled": true
   },
   "outputs": [
    {
     "name": "stdout",
     "output_type": "stream",
     "text": [
      "48000 12000\n",
      "tensor(2.3029, device='cuda:0', grad_fn=<NllLossBackward0>)\n",
      "tensor(1.7023, device='cuda:0', grad_fn=<NllLossBackward0>)\n",
      "tensor(1.5952, device='cuda:0', grad_fn=<NllLossBackward0>)\n",
      "tensor(1.5797, device='cuda:0', grad_fn=<NllLossBackward0>)\n",
      "tensor(1.5757, device='cuda:0', grad_fn=<NllLossBackward0>)\n",
      "tensor(1.5441, device='cuda:0', grad_fn=<NllLossBackward0>)\n",
      "tensor(1.5505, device='cuda:0', grad_fn=<NllLossBackward0>)\n",
      "tensor(1.5487, device='cuda:0', grad_fn=<NllLossBackward0>)\n",
      "tensor(1.5060, device='cuda:0', grad_fn=<NllLossBackward0>)\n",
      "tensor(1.5628, device='cuda:0', grad_fn=<NllLossBackward0>)\n",
      "tensor(1.5281, device='cuda:0', grad_fn=<NllLossBackward0>)\n",
      "tensor(1.5151, device='cuda:0', grad_fn=<NllLossBackward0>)\n",
      "tensor(1.4988, device='cuda:0', grad_fn=<NllLossBackward0>)\n",
      "tensor(1.4941, device='cuda:0', grad_fn=<NllLossBackward0>)\n",
      "tensor(1.5139, device='cuda:0', grad_fn=<NllLossBackward0>)\n",
      "tensor(1.5002, device='cuda:0', grad_fn=<NllLossBackward0>)\n",
      "tensor(1.4977, device='cuda:0', grad_fn=<NllLossBackward0>)\n",
      "tensor(1.5046, device='cuda:0', grad_fn=<NllLossBackward0>)\n",
      "tensor(1.4861, device='cuda:0', grad_fn=<NllLossBackward0>)\n",
      "tensor(1.4990, device='cuda:0', grad_fn=<NllLossBackward0>)\n",
      "tensor(1.5077, device='cuda:0', grad_fn=<NllLossBackward0>)\n",
      "tensor(1.4992, device='cuda:0', grad_fn=<NllLossBackward0>)\n",
      "tensor(1.4950, device='cuda:0', grad_fn=<NllLossBackward0>)\n",
      "tensor(1.4928, device='cuda:0', grad_fn=<NllLossBackward0>)\n",
      "tensor(1.4810, device='cuda:0', grad_fn=<NllLossBackward0>)\n",
      "tensor(1.4994, device='cuda:0', grad_fn=<NllLossBackward0>)\n",
      "tensor(1.4876, device='cuda:0', grad_fn=<NllLossBackward0>)\n",
      "tensor(1.5008, device='cuda:0', grad_fn=<NllLossBackward0>)\n",
      "tensor(1.4751, device='cuda:0', grad_fn=<NllLossBackward0>)\n",
      "tensor(1.4894, device='cuda:0', grad_fn=<NllLossBackward0>)\n",
      "tensor(1.4675, device='cuda:0', grad_fn=<NllLossBackward0>)\n",
      "tensor(1.4777, device='cuda:0', grad_fn=<NllLossBackward0>)\n",
      "tensor(1.5136, device='cuda:0', grad_fn=<NllLossBackward0>)\n",
      "tensor(1.4799, device='cuda:0', grad_fn=<NllLossBackward0>)\n",
      "tensor(1.4984, device='cuda:0', grad_fn=<NllLossBackward0>)\n",
      "tensor(1.4849, device='cuda:0', grad_fn=<NllLossBackward0>)\n",
      "tensor(1.4656, device='cuda:0', grad_fn=<NllLossBackward0>)\n",
      "tensor(1.4741, device='cuda:0', grad_fn=<NllLossBackward0>)\n",
      "tensor(1.4924, device='cuda:0', grad_fn=<NllLossBackward0>)\n",
      "tensor(1.4812, device='cuda:0', grad_fn=<NllLossBackward0>)\n",
      "tensor(1.4761, device='cuda:0', grad_fn=<NllLossBackward0>)\n",
      "tensor(1.4986, device='cuda:0', grad_fn=<NllLossBackward0>)\n",
      "tensor(1.4837, device='cuda:0', grad_fn=<NllLossBackward0>)\n",
      "tensor(1.4881, device='cuda:0', grad_fn=<NllLossBackward0>)\n",
      "tensor(1.4755, device='cuda:0', grad_fn=<NllLossBackward0>)\n",
      "tensor(1.4765, device='cuda:0', grad_fn=<NllLossBackward0>)\n",
      "tensor(1.4694, device='cuda:0', grad_fn=<NllLossBackward0>)\n",
      "tensor(1.4758, device='cuda:0', grad_fn=<NllLossBackward0>)\n",
      "tensor(1.4759, device='cuda:0', grad_fn=<NllLossBackward0>)\n",
      "tensor(1.4668, device='cuda:0', grad_fn=<NllLossBackward0>)\n",
      "tensor(1.4874, device='cuda:0', grad_fn=<NllLossBackward0>)\n",
      "tensor(1.4759, device='cuda:0', grad_fn=<NllLossBackward0>)\n",
      "tensor(1.4717, device='cuda:0', grad_fn=<NllLossBackward0>)\n",
      "tensor(1.4709, device='cuda:0', grad_fn=<NllLossBackward0>)\n",
      "tensor(1.4742, device='cuda:0', grad_fn=<NllLossBackward0>)\n",
      "tensor(1.4815, device='cuda:0', grad_fn=<NllLossBackward0>)\n",
      "tensor(1.4722, device='cuda:0', grad_fn=<NllLossBackward0>)\n",
      "tensor(1.4638, device='cuda:0', grad_fn=<NllLossBackward0>)\n",
      "tensor(1.4918, device='cuda:0', grad_fn=<NllLossBackward0>)\n",
      "tensor(1.4679, device='cuda:0', grad_fn=<NllLossBackward0>)\n",
      "tensor(1.4628, device='cuda:0', grad_fn=<NllLossBackward0>)\n",
      "tensor(1.4708, device='cuda:0', grad_fn=<NllLossBackward0>)\n",
      "tensor(1.4673, device='cuda:0', grad_fn=<NllLossBackward0>)\n",
      "tensor(1.4792, device='cuda:0', grad_fn=<NllLossBackward0>)\n",
      "tensor(1.4732, device='cuda:0', grad_fn=<NllLossBackward0>)\n",
      "tensor(1.4756, device='cuda:0', grad_fn=<NllLossBackward0>)\n",
      "tensor(1.4634, device='cuda:0', grad_fn=<NllLossBackward0>)\n",
      "tensor(1.4703, device='cuda:0', grad_fn=<NllLossBackward0>)\n",
      "tensor(1.4642, device='cuda:0', grad_fn=<NllLossBackward0>)\n",
      "tensor(1.4645, device='cuda:0', grad_fn=<NllLossBackward0>)\n",
      "tensor(1.4680, device='cuda:0', grad_fn=<NllLossBackward0>)\n",
      "tensor(1.4749, device='cuda:0', grad_fn=<NllLossBackward0>)\n",
      "tensor(1.4645, device='cuda:0', grad_fn=<NllLossBackward0>)\n",
      "tensor(1.4618, device='cuda:0', grad_fn=<NllLossBackward0>)\n",
      "tensor(1.4702, device='cuda:0', grad_fn=<NllLossBackward0>)\n",
      "tensor(1.4648, device='cuda:0', grad_fn=<NllLossBackward0>)\n",
      "tensor(1.4843, device='cuda:0', grad_fn=<NllLossBackward0>)\n",
      "tensor(1.4690, device='cuda:0', grad_fn=<NllLossBackward0>)\n",
      "tensor(1.4655, device='cuda:0', grad_fn=<NllLossBackward0>)\n",
      "tensor(1.4635, device='cuda:0', grad_fn=<NllLossBackward0>)\n"
     ]
    }
   ],
   "source": [
    "#%%capture\n",
    "model = MyModel(input_d, hidden_d, out_d)\n",
    "model = model.to(device)\n",
    "\n",
    "#optimizer\n",
    "optim = torch.optim.Adam(model.parameters(), lr=0.001)\n",
    "\n",
    "#lr scheduler\n",
    "\n",
    "#dataset\n",
    "dataset = datasets.MNIST('C:\\\\Users\\\\Vampire\\\\Repos\\\\NN_reload_stream2', download=True)\n",
    "\n",
    "train_dataset = dataset\n",
    "valid_dataset = dataset\n",
    "\n",
    "dataset_size = len(train_dataset)\n",
    "indices = list(range(dataset_size))\n",
    "split = int(np.floor(0.2 * dataset_size))\n",
    "\n",
    "\n",
    "shuffle=True\n",
    "random_seed = 42\n",
    "if shuffle == True:\n",
    "    np.random.seed(random_seed)\n",
    "    np.random.shuffle(indices)\n",
    "\n",
    "\n",
    "train_idx, valid_idx = indices[split:], indices[:split]\n",
    "print(len(train_idx), len(valid_idx))\n",
    "\n",
    "\n",
    "\n",
    "\n",
    "train_sampler = torch.utils.data.SubsetRandomSampler(train_idx)\n",
    "test_sampler = torch.utils.data.SubsetRandomSampler(valid_idx)\n",
    "\n",
    "\n",
    "criterion = nn.CrossEntropyLoss()\n",
    "\n",
    "# train loop\n",
    "for epoch in range(num_epoch):\n",
    "    #dataloder\n",
    "    data_loader = DataLoader(dataset=dataset,\n",
    "                             batch_size=batch_size,\n",
    "                             #shuffle=True,\n",
    "                             collate_fn=collate_fn,\n",
    "                             drop_last=True, sampler = train_sampler\n",
    "                             )\n",
    "    for i, batch in enumerate(data_loader):\n",
    "        optim.zero_grad()\n",
    "        data = batch['data'].to(device).float()\n",
    "        predict = model(data.view(data.size(0), -1))\n",
    "        \n",
    "        loss = criterion(predict, batch['target'].long().to(device))\n",
    "        loss.backward()\n",
    "        #print(loss)\n",
    "        optim.step()\n",
    "        if (i % 100) == 0:\n",
    "            print(loss)\n",
    "\n"
   ]
  },
  {
   "cell_type": "code",
   "execution_count": 5,
   "id": "834201ce",
   "metadata": {},
   "outputs": [
    {
     "name": "stdout",
     "output_type": "stream",
     "text": [
      "<class 'torch.Tensor'>\n"
     ]
    },
    {
     "data": {
      "image/png": "[encoded data removed]",
      "text/plain": [
       "<Figure size 432x288 with 1 Axes>"
      ]
     },
     "metadata": {
      "needs_background": "light"
     },
     "output_type": "display_data"
    },
    {
     "data": {
      "text/plain": [
       "tensor(1.4705, device='cuda:0', grad_fn=<NllLossBackward0>)"
      ]
     },
     "execution_count": 5,
     "metadata": {},
     "output_type": "execute_result"
    }
   ],
   "source": [
    "\n",
    "import matplotlib.pyplot as plt\n",
    "plt.imshow(dataset.data[0].detach().numpy())\n",
    "print(type(dataset.data[0]))\n",
    "plt.show()\n",
    "loss"
   ]
  },
  {
   "cell_type": "code",
   "execution_count": 6,
   "id": "ee12ecc7",
   "metadata": {},
   "outputs": [],
   "source": [
    "#print(collate_fn(dataset))"
   ]
  },
  {
   "cell_type": "code",
   "execution_count": null,
   "id": "094163c3",
   "metadata": {},
   "outputs": [],
   "source": []
  },
  {
   "cell_type": "code",
   "execution_count": 7,
   "id": "fe86179a",
   "metadata": {},
   "outputs": [
    {
     "name": "stderr",
     "output_type": "stream",
     "text": [
      "C:\\Users\\Vampire\\AppData\\Local\\Temp\\ipykernel_12720\\3577221052.py:7: UserWarning: To copy construct from a tensor, it is recommended to use sourceTensor.clone().detach() or sourceTensor.clone().detach().requires_grad_(True), rather than torch.tensor(sourceTensor).\n",
      "  batch = torch.tensor(I/255).unsqueeze(0)\n"
     ]
    },
    {
     "data": {
      "text/plain": [
       "tensor([[1.6762e-10, 5.8112e-06, 6.6877e-09, 1.0000e+00, 6.6071e-16, 2.5134e-07,\n",
       "         1.3398e-18, 5.4522e-11, 3.2390e-08, 3.8766e-08]], device='cuda:0')"
      ]
     },
     "execution_count": 7,
     "metadata": {},
     "output_type": "execute_result"
    }
   ],
   "source": [
    "def test_one_image(I, model):\n",
    "    '''\n",
    "    I - 28x28 uint8 numpy array\n",
    "    '''\n",
    "    model.eval()\n",
    "    #print(torch.tensor(I/255).size())\n",
    "    batch = torch.tensor(I/255).unsqueeze(0)\n",
    "    #print(batch.size())\n",
    "    batch = batch.view(batch.size(0), -1)\n",
    "    #print(batch.size()) \n",
    "    with torch.no_grad():\n",
    "        batch = batch.to(device)\n",
    "        output = model( batch )\n",
    "        #output = torch.argmax(output, 1)\n",
    "    return output\n",
    "\n",
    "index = 255\n",
    "item = dataset[index]\n",
    "\n",
    "image = torch.from_numpy(numpy.array(item[0])) \n",
    "\n",
    "test_one_image(image, model)\n",
    "\n",
    "\n"
   ]
  },
  {
   "cell_type": "code",
   "execution_count": 8,
   "id": "f5c522f3",
   "metadata": {},
   "outputs": [
    {
     "name": "stderr",
     "output_type": "stream",
     "text": [
      "C:\\Users\\Vampire\\AppData\\Local\\Temp\\ipykernel_12720\\887067205.py:1: UserWarning: To copy construct from a tensor, it is recommended to use sourceTensor.clone().detach() or sourceTensor.clone().detach().requires_grad_(True), rather than torch.tensor(sourceTensor).\n",
      "  plt.imshow(torch.tensor(image).clone().detach().numpy())\n"
     ]
    },
    {
     "data": {
      "image/png": "[encoded data removed]",
      "text/plain": [
       "<Figure size 432x288 with 1 Axes>"
      ]
     },
     "metadata": {
      "needs_background": "light"
     },
     "output_type": "display_data"
    }
   ],
   "source": [
    "plt.imshow(torch.tensor(image).clone().detach().numpy())\n",
    "plt.show()"
   ]
  },
  {
   "cell_type": "code",
   "execution_count": null,
   "id": "dbefc0d3",
   "metadata": {},
   "outputs": [],
   "source": []
  },
  {
   "cell_type": "code",
   "execution_count": 9,
   "id": "cb896ede",
   "metadata": {},
   "outputs": [],
   "source": [
    "data_loader_test = DataLoader(\n",
    "                                 dataset=dataset,\n",
    "                                 batch_size=12000,\n",
    "                                 #shuffle=True,\n",
    "                                 collate_fn=collate_fn,\n",
    "                                 drop_last=True, sampler = test_sampler\n",
    "                             )"
   ]
  },
  {
   "cell_type": "code",
   "execution_count": 10,
   "id": "ef024f18",
   "metadata": {},
   "outputs": [
    {
     "name": "stdout",
     "output_type": "stream",
     "text": [
      "tensor(1.4842, device='cuda:0') 0\n"
     ]
    },
    {
     "data": {
      "text/plain": [
       "tensor(1.4842, device='cuda:0')"
      ]
     },
     "execution_count": 10,
     "metadata": {},
     "output_type": "execute_result"
    }
   ],
   "source": [
    "model.eval()\n",
    "with torch.no_grad():\n",
    "    for i, batch in enumerate(data_loader_test):\n",
    "        data = batch['data'].to(device).float()\n",
    "        predict = model(data.view(data.size(0), -1))\n",
    "        loss = criterion(predict, batch['target'].long().to(device))\n",
    "        #loss.backward()\n",
    "        #print(loss)\n",
    "        #optim.step()\n",
    "        if (i % 100) == 0:\n",
    "            print(loss, i)\n",
    "loss.mean()"
   ]
  },
  {
   "cell_type": "code",
   "execution_count": 13,
   "id": "81a699e1",
   "metadata": {},
   "outputs": [
    {
     "name": "stderr",
     "output_type": "stream",
     "text": [
      "C:\\Users\\Vampire\\AppData\\Local\\Temp\\ipykernel_12720\\3577221052.py:7: UserWarning: To copy construct from a tensor, it is recommended to use sourceTensor.clone().detach() or sourceTensor.clone().detach().requires_grad_(True), rather than torch.tensor(sourceTensor).\n",
      "  batch = torch.tensor(I/255).unsqueeze(0)\n"
     ]
    },
    {
     "data": {
      "text/plain": [
       "tensor([[7.6687e-09, 1.8417e-08, 2.3209e-11, 1.9339e-07, 1.4665e-13, 3.0127e-08,\n",
       "         3.5859e-21, 1.0000e+00, 9.2704e-13, 5.6125e-04]], device='cuda:0')"
      ]
     },
     "execution_count": 13,
     "metadata": {},
     "output_type": "execute_result"
    }
   ],
   "source": [
    "index = valid_idx[0]\n",
    "item = dataset[index]\n",
    "\n",
    "image = torch.from_numpy(numpy.array(item[0])) \n",
    "\n",
    "test_one_image(image, model)"
   ]
  },
  {
   "cell_type": "code",
   "execution_count": 14,
   "id": "d031aa41",
   "metadata": {},
   "outputs": [
    {
     "name": "stderr",
     "output_type": "stream",
     "text": [
      "C:\\Users\\Vampire\\AppData\\Local\\Temp\\ipykernel_12720\\887067205.py:1: UserWarning: To copy construct from a tensor, it is recommended to use sourceTensor.clone().detach() or sourceTensor.clone().detach().requires_grad_(True), rather than torch.tensor(sourceTensor).\n",
      "  plt.imshow(torch.tensor(image).clone().detach().numpy())\n"
     ]
    },
    {
     "data": {
      "image/png": "[encoded data removed]",
      "text/plain": [
       "<Figure size 432x288 with 1 Axes>"
      ]
     },
     "metadata": {
      "needs_background": "light"
     },
     "output_type": "display_data"
    }
   ],
   "source": [
    "plt.imshow(torch.tensor(image).clone().detach().numpy())\n",
    "plt.show()"
   ]
  },
  {
   "cell_type": "code",
   "execution_count": 38,
   "id": "c26587a6",
   "metadata": {},
   "outputs": [],
   "source": [
    "#сверточные\n",
    "import torch.nn.functional as fun\n",
    "num_epoch = 20\n",
    "cuda_device = -1\n",
    "batch_size = 140\n",
    "device = torch.device(\"cuda\") if torch.cuda.is_available() else torch.device(\"cpu\")\n",
    "input_ch = 1\n",
    "hidden_ch = 256\n",
    "hidden_neurons = 768\n",
    "hidden_neurons1 = 512\n",
    "out_d = 10\n",
    "\n",
    "#model\n",
    "class MyModelCNN(nn.Module):\n",
    "    def __init__(self,\n",
    "                 in_channels: int,\n",
    "                 hidden_channels: int,\n",
    "                 n_classes: int,\n",
    "                 ):\n",
    "        super().__init__()\n",
    "        # TODO change architecture\n",
    "        # TODO use pooling\n",
    "        self.conv1 = nn.Conv2d(in_channels, hidden_channels, kernel_size=5, padding=2, stride=2) # 14 * 14\n",
    "        # TODO add batchnorm after each conv\n",
    "        self.conv1_bn1 = nn.BatchNorm2d(hidden_channels)\n",
    "        self.conv2 = nn.Conv2d(hidden_channels, hidden_channels, kernel_size=3, padding=1, stride=1)\n",
    "        self.conv2_bn2 = nn.BatchNorm2d(hidden_channels)\n",
    "        self.conv3 = nn.Conv2d(hidden_channels, 1, kernel_size=1, padding=0, stride=1)\n",
    "        self.conv3_bn3 = nn.BatchNorm2d(hidden_channels)\n",
    "        self.linear1 = nn.Linear(14*14, hidden_neurons, bias=True)\n",
    "        self.linear2 = nn.Linear(hidden_neurons, hidden_neurons1, bias=True)\n",
    "        self.linear3 = nn.Linear(hidden_neurons1, n_classes, bias = True)\n",
    "        self.activation = nn.Sigmoid()\n",
    "\n",
    "    def forward(self, x):\n",
    "        x = self.activation(self.conv1(x))\n",
    "        x = self.conv1_bn1(x)\n",
    "        x = self.activation(self.conv2(x))\n",
    "        x = self.conv2_bn2(x)\n",
    "        x = self.activation(self.conv3(x))\n",
    "        #x = self.conv_bn3(x)\n",
    "        x = self.activation(self.linear1(x.view(x.size(0), -1)))\n",
    "        x = self.activation(self.linear2(x))\n",
    "        x = self.activation(self.linear3(x))\n",
    "        return x\n",
    "\n",
    "\n",
    "def collate_fn(data):\n",
    "    pics = []\n",
    "    targets = []\n",
    "    # data = [(pic, target), ....]\n",
    "    for item in data:\n",
    "        pics.append(numpy.array(item[0]))\n",
    "        targets.append(item[1])\n",
    "\n",
    "    return {\n",
    "        'data': torch.from_numpy(numpy.array(pics)) / 255,\n",
    "        'target': torch.from_numpy(numpy.array(targets))\n",
    "    }\n",
    "\n",
    "# init model\n",
    "model = MyModelCNN(input_ch, hidden_ch, out_d)\n",
    "model = model.to(device)\n",
    "model.train()\n",
    "#optimizer\n",
    "optim = torch.optim.Adam(model.parameters(), lr=0.005)"
   ]
  },
  {
   "cell_type": "code",
   "execution_count": 39,
   "id": "5d8392bc",
   "metadata": {},
   "outputs": [
    {
     "name": "stdout",
     "output_type": "stream",
     "text": [
      "48000 12000\n",
      "tensor(2.2912, device='cuda:0', grad_fn=<NllLossBackward0>) 0 0\n",
      "tensor(1.6452, device='cuda:0', grad_fn=<NllLossBackward0>) 0 100\n",
      "tensor(1.5668, device='cuda:0', grad_fn=<NllLossBackward0>) 0 200\n",
      "tensor(1.5009, device='cuda:0', grad_fn=<NllLossBackward0>) 0 300\n",
      "tensor(1.5404, device='cuda:0', grad_fn=<NllLossBackward0>) 1 0\n",
      "tensor(1.5179, device='cuda:0', grad_fn=<NllLossBackward0>) 1 100\n",
      "tensor(1.5101, device='cuda:0', grad_fn=<NllLossBackward0>) 1 200\n",
      "tensor(1.4865, device='cuda:0', grad_fn=<NllLossBackward0>) 1 300\n",
      "tensor(1.4828, device='cuda:0', grad_fn=<NllLossBackward0>) 2 0\n",
      "tensor(1.4891, device='cuda:0', grad_fn=<NllLossBackward0>) 2 100\n",
      "tensor(1.5091, device='cuda:0', grad_fn=<NllLossBackward0>) 2 200\n",
      "tensor(1.4859, device='cuda:0', grad_fn=<NllLossBackward0>) 2 300\n",
      "tensor(1.4762, device='cuda:0', grad_fn=<NllLossBackward0>) 3 0\n",
      "tensor(1.4758, device='cuda:0', grad_fn=<NllLossBackward0>) 3 100\n",
      "tensor(1.5183, device='cuda:0', grad_fn=<NllLossBackward0>) 3 200\n",
      "tensor(1.4934, device='cuda:0', grad_fn=<NllLossBackward0>) 3 300\n",
      "tensor(1.4797, device='cuda:0', grad_fn=<NllLossBackward0>) 4 0\n",
      "tensor(1.4975, device='cuda:0', grad_fn=<NllLossBackward0>) 4 100\n",
      "tensor(1.4807, device='cuda:0', grad_fn=<NllLossBackward0>) 4 200\n",
      "tensor(1.4736, device='cuda:0', grad_fn=<NllLossBackward0>) 4 300\n",
      "tensor(1.4831, device='cuda:0', grad_fn=<NllLossBackward0>) 5 0\n",
      "tensor(1.4701, device='cuda:0', grad_fn=<NllLossBackward0>) 5 100\n",
      "tensor(1.4836, device='cuda:0', grad_fn=<NllLossBackward0>) 5 200\n",
      "tensor(1.4779, device='cuda:0', grad_fn=<NllLossBackward0>) 5 300\n",
      "tensor(1.4825, device='cuda:0', grad_fn=<NllLossBackward0>) 6 0\n",
      "tensor(1.4687, device='cuda:0', grad_fn=<NllLossBackward0>) 6 100\n",
      "tensor(1.4763, device='cuda:0', grad_fn=<NllLossBackward0>) 6 200\n",
      "tensor(1.4786, device='cuda:0', grad_fn=<NllLossBackward0>) 6 300\n",
      "tensor(1.4713, device='cuda:0', grad_fn=<NllLossBackward0>) 7 0\n",
      "tensor(1.4886, device='cuda:0', grad_fn=<NllLossBackward0>) 7 100\n",
      "tensor(1.4644, device='cuda:0', grad_fn=<NllLossBackward0>) 7 200\n",
      "tensor(1.4765, device='cuda:0', grad_fn=<NllLossBackward0>) 7 300\n",
      "tensor(1.4796, device='cuda:0', grad_fn=<NllLossBackward0>) 8 0\n",
      "tensor(1.4790, device='cuda:0', grad_fn=<NllLossBackward0>) 8 100\n",
      "tensor(1.4778, device='cuda:0', grad_fn=<NllLossBackward0>) 8 200\n",
      "tensor(1.4724, device='cuda:0', grad_fn=<NllLossBackward0>) 8 300\n",
      "tensor(1.4895, device='cuda:0', grad_fn=<NllLossBackward0>) 9 0\n",
      "tensor(1.4750, device='cuda:0', grad_fn=<NllLossBackward0>) 9 100\n",
      "tensor(1.4696, device='cuda:0', grad_fn=<NllLossBackward0>) 9 200\n",
      "tensor(1.4920, device='cuda:0', grad_fn=<NllLossBackward0>) 9 300\n",
      "tensor(1.4783, device='cuda:0', grad_fn=<NllLossBackward0>) 10 0\n",
      "tensor(1.4669, device='cuda:0', grad_fn=<NllLossBackward0>) 10 100\n",
      "tensor(1.4650, device='cuda:0', grad_fn=<NllLossBackward0>) 10 200\n",
      "tensor(1.4806, device='cuda:0', grad_fn=<NllLossBackward0>) 10 300\n",
      "tensor(1.4852, device='cuda:0', grad_fn=<NllLossBackward0>) 11 0\n",
      "tensor(1.4797, device='cuda:0', grad_fn=<NllLossBackward0>) 11 100\n",
      "tensor(1.4675, device='cuda:0', grad_fn=<NllLossBackward0>) 11 200\n",
      "tensor(1.4710, device='cuda:0', grad_fn=<NllLossBackward0>) 11 300\n",
      "tensor(1.4680, device='cuda:0', grad_fn=<NllLossBackward0>) 12 0\n",
      "tensor(1.4662, device='cuda:0', grad_fn=<NllLossBackward0>) 12 100\n",
      "tensor(1.4737, device='cuda:0', grad_fn=<NllLossBackward0>) 12 200\n",
      "tensor(1.4768, device='cuda:0', grad_fn=<NllLossBackward0>) 12 300\n",
      "tensor(1.4729, device='cuda:0', grad_fn=<NllLossBackward0>) 13 0\n",
      "tensor(1.4728, device='cuda:0', grad_fn=<NllLossBackward0>) 13 100\n",
      "tensor(1.4700, device='cuda:0', grad_fn=<NllLossBackward0>) 13 200\n",
      "tensor(1.4682, device='cuda:0', grad_fn=<NllLossBackward0>) 13 300\n",
      "tensor(1.4796, device='cuda:0', grad_fn=<NllLossBackward0>) 14 0\n",
      "tensor(1.4789, device='cuda:0', grad_fn=<NllLossBackward0>) 14 100\n",
      "tensor(1.4720, device='cuda:0', grad_fn=<NllLossBackward0>) 14 200\n",
      "tensor(1.4714, device='cuda:0', grad_fn=<NllLossBackward0>) 14 300\n",
      "tensor(1.4676, device='cuda:0', grad_fn=<NllLossBackward0>) 15 0\n",
      "tensor(1.4684, device='cuda:0', grad_fn=<NllLossBackward0>) 15 100\n",
      "tensor(1.4649, device='cuda:0', grad_fn=<NllLossBackward0>) 15 200\n",
      "tensor(1.4625, device='cuda:0', grad_fn=<NllLossBackward0>) 15 300\n",
      "tensor(1.4824, device='cuda:0', grad_fn=<NllLossBackward0>) 16 0\n",
      "tensor(1.4742, device='cuda:0', grad_fn=<NllLossBackward0>) 16 100\n",
      "tensor(1.4733, device='cuda:0', grad_fn=<NllLossBackward0>) 16 200\n",
      "tensor(1.4699, device='cuda:0', grad_fn=<NllLossBackward0>) 16 300\n",
      "tensor(1.4652, device='cuda:0', grad_fn=<NllLossBackward0>) 17 0\n",
      "tensor(1.4845, device='cuda:0', grad_fn=<NllLossBackward0>) 17 100\n",
      "tensor(1.4771, device='cuda:0', grad_fn=<NllLossBackward0>) 17 200\n",
      "tensor(1.4645, device='cuda:0', grad_fn=<NllLossBackward0>) 17 300\n",
      "tensor(1.4642, device='cuda:0', grad_fn=<NllLossBackward0>) 18 0\n",
      "tensor(1.4715, device='cuda:0', grad_fn=<NllLossBackward0>) 18 100\n",
      "tensor(1.4669, device='cuda:0', grad_fn=<NllLossBackward0>) 18 200\n",
      "tensor(1.4768, device='cuda:0', grad_fn=<NllLossBackward0>) 18 300\n",
      "tensor(1.4684, device='cuda:0', grad_fn=<NllLossBackward0>) 19 0\n",
      "tensor(1.4760, device='cuda:0', grad_fn=<NllLossBackward0>) 19 100\n",
      "tensor(1.4632, device='cuda:0', grad_fn=<NllLossBackward0>) 19 200\n",
      "tensor(1.4711, device='cuda:0', grad_fn=<NllLossBackward0>) 19 300\n"
     ]
    }
   ],
   "source": [
    "\n",
    "\n",
    "#lr scheduler\n",
    "\n",
    "#dataset\n",
    "dataset = datasets.MNIST('/Users/Vampire/Repos/NN_reload_stream2', download=False)\n",
    "\n",
    "train_dataset = dataset\n",
    "valid_dataset = dataset\n",
    "\n",
    "dataset_size = len(train_dataset)\n",
    "indices = list(range(dataset_size))\n",
    "split = int(np.floor(0.2 * dataset_size))\n",
    "\n",
    "\n",
    "shuffle=True\n",
    "random_seed = 42\n",
    "if shuffle == True:\n",
    "    np.random.seed(random_seed)\n",
    "    np.random.shuffle(indices)\n",
    "\n",
    "\n",
    "train_idx, valid_idx = indices[split:], indices[:split]\n",
    "print(len(train_idx), len(valid_idx))\n",
    "train_sampler = torch.utils.data.SubsetRandomSampler(train_idx)\n",
    "test_sampler = torch.utils.data.SubsetRandomSampler(valid_idx)\n",
    "\n",
    "criterion = nn.CrossEntropyLoss()\n",
    "\n",
    "# train loop\n",
    "for epoch in range(num_epoch):\n",
    "    #dataloder\n",
    "    data_loader = DataLoader(dataset=dataset,\n",
    "                             batch_size=batch_size,\n",
    "                             #shuffle=True,\n",
    "                             collate_fn=collate_fn,\n",
    "                             drop_last=True, sampler = train_sampler\n",
    "                             )\n",
    "    for i, batch in enumerate(data_loader):\n",
    "        optim.zero_grad()\n",
    "        data = batch['data'].to(device).float()\n",
    "        predict = model(data.unsqueeze(1))\n",
    "        loss = criterion(predict, batch['target'].long().to(device))\n",
    "        loss.backward()\n",
    "        optim.step()\n",
    "        if (i % 100) == 0:\n",
    "            print(loss, epoch,i)"
   ]
  },
  {
   "cell_type": "code",
   "execution_count": 17,
   "id": "1bae7b6b",
   "metadata": {},
   "outputs": [
    {
     "name": "stdout",
     "output_type": "stream",
     "text": [
      "tensor(1.4697, device='cuda:0') 0\n"
     ]
    },
    {
     "data": {
      "text/plain": [
       "tensor(1.4736, device='cuda:0')"
      ]
     },
     "execution_count": 17,
     "metadata": {},
     "output_type": "execute_result"
    }
   ],
   "source": [
    "data_loader_test = DataLoader(\n",
    "                                 dataset=dataset,\n",
    "                                 batch_size=batch_size,\n",
    "                                 #shuffle=True,\n",
    "                                 collate_fn=collate_fn,\n",
    "                                 drop_last=True, sampler = test_sampler\n",
    "                             )\n",
    "model.eval()\n",
    "with torch.no_grad():\n",
    "    for i, batch in enumerate(data_loader_test):\n",
    "        data = batch['data'].to(device).float()\n",
    "        predict = model(data.unsqueeze(1))\n",
    "        loss = criterion(predict, batch['target'].long().to(device))\n",
    "        #loss.backward()\n",
    "        #print(loss)\n",
    "        #optim.step()\n",
    "        if (i % 100) == 0:\n",
    "            print(loss, i)\n",
    "loss.mean()"
   ]
  },
  {
   "cell_type": "code",
   "execution_count": null,
   "id": "f6b68a3e",
   "metadata": {},
   "outputs": [],
   "source": []
  },
  {
   "cell_type": "code",
   "execution_count": null,
   "id": "cf20078a",
   "metadata": {},
   "outputs": [],
   "source": []
  },
  {
   "cell_type": "code",
   "execution_count": null,
   "id": "85079d15",
   "metadata": {},
   "outputs": [],
   "source": []
  },
  {
   "cell_type": "code",
   "execution_count": 9,
   "id": "85ea7259",
   "metadata": {},
   "outputs": [
    {
     "data": {
      "text/plain": [
       "'NVIDIA GeForce RTX 2080'"
      ]
     },
     "execution_count": 9,
     "metadata": {},
     "output_type": "execute_result"
    }
   ],
   "source": [
    "import torch\n",
    "torch.cuda.device_count()\n",
    "torch.cuda.get_device_name(0)"
   ]
  },
  {
   "cell_type": "code",
   "execution_count": null,
   "id": "e4854002",
   "metadata": {},
   "outputs": [],
   "source": []
  },
  {
   "cell_type": "code",
   "execution_count": null,
   "id": "d9684669",
   "metadata": {},
   "outputs": [],
   "source": []
  }
 ],
 "metadata": {
  "kernelspec": {
   "display_name": "Python 3 (ipykernel)",
   "language": "python",
   "name": "python3"
  },
  "language_info": {
   "codemirror_mode": {
    "name": "ipython",
    "version": 3
   },
   "file_extension": ".py",
   "mimetype": "text/x-python",
   "name": "python",
   "nbconvert_exporter": "python",
   "pygments_lexer": "ipython3",
   "version": "3.8.10"
  }
 },
 "nbformat": 4,
 "nbformat_minor": 5
}
